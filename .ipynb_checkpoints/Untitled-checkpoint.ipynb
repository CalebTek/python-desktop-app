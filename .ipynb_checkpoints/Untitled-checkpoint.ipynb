{
 "cells": [
  {
   "cell_type": "code",
   "execution_count": 1,
   "id": "552099b7",
   "metadata": {},
   "outputs": [],
   "source": [
    "# -*- coding: utf-8 -*-\n",
    "\"\"\"\n",
    "Created on Wed Jun  3 12:50:33 2020\n",
    "\n",
    "@author: LFC SOKOTO STUDIO\n",
    "\"\"\"\n",
    "\n",
    "\n",
    "# -*- coding: utf-8 -*-\n",
    "\n",
    "from tkinter import *\n",
    "from includes.base20 import base20\n",
    "from tkinter.messagebox import *\n",
    "\n",
    "\n",
    "# GUI program that converts temperatures from Fahrenheit to Celsius.\n",
    "def convert():\n",
    "    base10 = entry.get()\n",
    "    if base10 == \"\":\n",
    "        showwarning(title='Warning', message='Oops, Enter a number')\n",
    "    else:\n",
    "        base20Convert = base20(int(base10))\n",
    "    output_label.configure(text = '{} in Base 20 is {} '.format(base10,base20Convert))\n",
    "    entry.delete(0,END)\n",
    "\n",
    "\n",
    "root = Tk()\n",
    "message_label = Label(text='Enter number in base 10',\n",
    "                      font=('Verdana', 16, \"bold\"))\n",
    "output_label = Label(font=('Verdana', 16))\n",
    "entry = Entry(font=('Verdana', 16), width=6)\n",
    "calc_button = Button(text='Convert', font=('Verdana', 16),bg='red', fg='white',\n",
    "                     command=convert, width=10)\n",
    "entry.bind('<Return>', lambda dummy=0:convert())\n",
    "\n",
    "message_label.grid(row=0, column=0)\n",
    "entry.grid(row=0, column=1)\n",
    "calc_button.grid(row=0, column=2)\n",
    "output_label.grid(row=1, column=0, columnspan=3)\n",
    "\n",
    "mainloop()"
   ]
  },
  {
   "cell_type": "code",
   "execution_count": 19,
   "id": "19f087c3",
   "metadata": {},
   "outputs": [
    {
     "ename": "IndentationError",
     "evalue": "unexpected indent (Temp/ipykernel_6568/1665906590.py, line 33)",
     "output_type": "error",
     "traceback": [
      "\u001b[1;36m  File \u001b[1;32m\"C:\\Users\\OERPS003\\AppData\\Local\\Temp/ipykernel_6568/1665906590.py\"\u001b[1;36m, line \u001b[1;32m33\u001b[0m\n\u001b[1;33m    else:\u001b[0m\n\u001b[1;37m    ^\u001b[0m\n\u001b[1;31mIndentationError\u001b[0m\u001b[1;31m:\u001b[0m unexpected indent\n"
     ]
    }
   ],
   "source": [
    "# -*- coding: utf-8 -*-\n",
    "\"\"\"\n",
    "Created on Fri Jun  5 11:43:05 2020\n",
    "\n",
    "@author: LFC SOKOTO STUDIO\n",
    "\"\"\"\n",
    "\n",
    "\n",
    "from tkinter import * \n",
    "from tkinter.messagebox import *\n",
    "\n",
    "def quitter_function():\n",
    "    answer = askquestion(title='Quit?', message='Do you want to Quit?')\n",
    "    if answer=='yes':\n",
    "        root.destroy()\n",
    "'''\n",
    "def tab():\n",
    "    if keysym=='Return':\n",
    "        keysym = \"Tab\"\n",
    "    return(keysym)\n",
    "'''\n",
    "\n",
    "'''\n",
    "elif isinstance(base10, str) == True or isinstance(newbase, str) == True:\n",
    "    showwarning(title='Warning', message='Oops, Filled the box with a number')\n",
    "'''\n",
    "\n",
    "def convert():\n",
    "    from includes.baseNumberClass import BaseNumber\n",
    "    base10 = entry1.get()\n",
    "    newbase = entry2.get()\n",
    "    if base10 == \"\" or newbase == \"\":\n",
    "        showwarning(title='Warning', message='Oops, Filled the box')\n",
    "    else:\n",
    "        base10 = int(base10)\n",
    "        newbase = int(newbase)\n",
    "    if 10 < newbase <= 26: #newbase >10 and newbase <= 26:\n",
    "        convertBase = BaseNumber(base10, newbase).base10ToUpperBase()\n",
    "    elif 2 <= newbase < 10: #newbase >= 2 and newbase < 10:\n",
    "        convertBase = BaseNumber(base10, newbase).base10ToLowerBase()\n",
    "    if newbase == 10:\n",
    "        convertBase = \"{} already in Base 10\".format(base10)\n",
    "    if newbase > 26:\n",
    "        convertBase = \"Error, base {} higer than base 26\".format(newbase)\n",
    "    if newbase < 2:\n",
    "        convertBase = \"Error, base {} lower than base 2\".format(newbase)\n",
    "    label3.configure(text=\"{}\".format(convertBase))\n",
    "    entry1.delete(0,END)\n",
    "    entry2.delete(0,END)\n",
    "\n",
    "root= Tk()\n",
    "root.title(\"Base Converter\")\n",
    "root.wm_iconbitmap(\"./images/converter.ico\")\n",
    "\n",
    "canvas = Canvas(root, width = 300, height = 300, bg = \"#e3f2e7\")\n",
    "canvas.pack()\n",
    "\n",
    "entry1 = Entry(canvas,font=('helvetica', 12)) \n",
    "entry1.place(relx = 0.45, rely = 0.2, relheight = 0.1, relwidth = 0.50)\n",
    "\n",
    "\n",
    "entry2 = Entry(canvas, font=('helvetica', 12)) \n",
    "entry2.place(relx = 0.45, rely = 0.32, relheight = 0.1, relwidth = 0.50)\n",
    "\n",
    "\n",
    "label0 = Label(canvas, text='Base Converter')\n",
    "label0.config(font=('helvetica', 16, \"bold\"), bg = \"green\", fg = \"white\")\n",
    "label0.place(relx = 0.05, rely = 0.05, relheight = 0.1, relwidth = 0.9)\n",
    "\n",
    "\n",
    "label1 = Label(canvas, text='Number in Base 10:')\n",
    "label1.config(font=('helvetica', 10), anchor = \"nw\", justify = \"left\", bg =\"#e3f2e7\")\n",
    "label1.place(relx = 0.05, rely = 0.2, relheight = 0.1, relwidth = 0.4)\n",
    "\n",
    "label2 = Label(canvas, text='New Base Number:')\n",
    "label2.config(font=('helvetica', 10), anchor = \"nw\", justify = \"left\", bg =\"#e3f2e7\")\n",
    "label2.place(relx = 0.05, rely = 0.32, relheight = 0.1, relwidth = 0.4)\n",
    "\n",
    "\n",
    "label_frame = Frame(canvas, bg = \"green\")\n",
    "label_frame.place(relx = 0.05, rely = 0.56, relheight = 0.4, relwidth = 0.9)\n",
    "label3 = Label(label_frame)\n",
    "label3.config(font=('helvetica', 16), anchor = \"nw\", justify = \"left\", bg =\"#e3f2e7\")\n",
    "label3.place(relx = 0.025, rely = 0.025, relwidth = 0.95, relheight = 0.95)\n",
    "\n",
    "\n",
    "\n",
    "button = Button(canvas, text='Convert', command=convert, \n",
    "                bg='green', fg='white', font=('helvetica', 9, 'bold'), \n",
    "                width = 7)\n",
    "button.place(relx = 0.7, relheight = 0.1, rely = 0.44, relwidth = 0.25)\n",
    "\n",
    "\n",
    "#entry1.bind(\"<Return>\", lambda dummy=0:tab())\n",
    "\n",
    "entry2.bind(\"<Return>\", lambda dummy=0:convert())\n",
    "\n",
    "\n",
    "root.protocol('WM_DELETE_WINDOW', quitter_function)\n",
    "\n",
    "root.mainloop()"
   ]
  },
  {
   "cell_type": "code",
   "execution_count": 8,
   "id": "15d89f6e",
   "metadata": {},
   "outputs": [],
   "source": [
    "x = 7383"
   ]
  },
  {
   "cell_type": "code",
   "execution_count": 13,
   "id": "8e151cc8",
   "metadata": {},
   "outputs": [
    {
     "name": "stdout",
     "output_type": "stream",
     "text": [
      "Help on built-in function isinstance in module builtins:\n",
      "\n",
      "isinstance(obj, class_or_tuple, /)\n",
      "    Return whether an object is an instance of a class or of a subclass thereof.\n",
      "    \n",
      "    A tuple, as in ``isinstance(x, (A, B, ...))``, may be given as the target to\n",
      "    check against. This is equivalent to ``isinstance(x, A) or isinstance(x, B)\n",
      "    or ...`` etc.\n",
      "\n"
     ]
    }
   ],
   "source": [
    "help(isinstance)"
   ]
  },
  {
   "cell_type": "code",
   "execution_count": 15,
   "id": "ac56faf6",
   "metadata": {},
   "outputs": [
    {
     "data": {
      "text/plain": [
       "False"
      ]
     },
     "execution_count": 15,
     "metadata": {},
     "output_type": "execute_result"
    }
   ],
   "source": [
    "isinstance(x,str)"
   ]
  }
 ],
 "metadata": {
  "kernelspec": {
   "display_name": "Python 3 (ipykernel)",
   "language": "python",
   "name": "python3"
  },
  "language_info": {
   "codemirror_mode": {
    "name": "ipython",
    "version": 3
   },
   "file_extension": ".py",
   "mimetype": "text/x-python",
   "name": "python",
   "nbconvert_exporter": "python",
   "pygments_lexer": "ipython3",
   "version": "3.8.6rc1"
  }
 },
 "nbformat": 4,
 "nbformat_minor": 5
}
